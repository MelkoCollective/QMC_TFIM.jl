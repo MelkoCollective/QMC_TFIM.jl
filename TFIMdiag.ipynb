{
 "cells": [
  {
   "cell_type": "markdown",
   "metadata": {},
   "source": [
    "###### December 2019 - Roger Melko\n",
    "\n",
    "Diagonalizing the Hamiltonian matrix for the transverse field Ising model to find the energy eigenvalues and eigenkets.   Calculate the groundstate magnetization.\n",
    "\n",
    "We will use the same Hamiltonian convention as the QMC program:\n",
    "$$\n",
    "H = -J\\sum_{\\langle i j \\rangle} \\sigma^z_i \\sigma^z_j - B \\sum_i \\sigma^x_i\n",
    "$$\n",
    "where ${\\bf \\sigma}_i$ are Pauli operators.  In this convention, the 1+1 CFT is at $h/J = 1$."
   ]
  },
  {
   "cell_type": "code",
   "execution_count": 1,
   "metadata": {},
   "outputs": [],
   "source": [
    "N = 4\n",
    "Dim = 2^N\n",
    "\n",
    "J = 1. #this is the exchange\n",
    "B = 1. #this is the transverse field\n",
    "\n",
    "Hamiltonian = zeros(Float32,Dim,Dim)   #This is your 2D Hamiltonian matrix\n",
    "\n",
    "for Ket = 0:Dim-1  #Loop over Hilbert Space\n",
    "    Diagonal = 0.\n",
    "    for SpinIndex = 0:N-2  #Loop over spin index (base zero, stop one spin before the end of the chain)\n",
    "        Spin1 = 2*((Ket>>SpinIndex)&1) - 1\n",
    "        NextIndex = SpinIndex + 1\n",
    "        Spin2 = 2*((Ket>>NextIndex)&1) - 1\n",
    "        Diagonal = Diagonal - J*Spin1*Spin2\n",
    "    end\n",
    "    Hamiltonian[Ket+1,Ket+1] = Diagonal\n",
    "    \n",
    "    for SpinIndex = 0:N-1\n",
    "        bit = 2^SpinIndex   #The \"label\" of the bit to be flipped\n",
    "        Bra = Ket ⊻ bit    #Binary XOR flips the bit\n",
    "        Hamiltonian[Bra+1,Ket+1] = -B\n",
    "    end\n",
    "    \n",
    "end"
   ]
  },
  {
   "cell_type": "markdown",
   "metadata": {},
   "source": [
    "In the Julia LinearAlgebra package, the eigen function finds eigenvalues and eigenvectors.  They are ordered; i.e. the groundstate energy corresponds to index 1"
   ]
  },
  {
   "cell_type": "code",
   "execution_count": 2,
   "metadata": {},
   "outputs": [
    {
     "name": "stdout",
     "output_type": "stream",
     "text": [
      "Float32[-4.7587676, -4.064175, -2.7587714, -2.0641742, -1.6945906, -1.0, -0.9999976, -0.3054061, 0.30540895, 1.0000005, 1.0000018, 1.6945946, 2.0641782, 2.758771, 4.0641766, 4.7587705]\n",
      "Float32[0.4799003, 0.255349, 0.16666706, 0.22454931, 0.16666704, 0.108783975, 0.14656392, 0.25534716, 0.255349, 0.14656435, 0.10878397, 0.16666637, 0.22454932, 0.16666627, 0.25534722, 0.47989514]\n"
     ]
    }
   ],
   "source": [
    "using LinearAlgebra\n",
    "Diag = eigen(Hamiltonian)     #Diagonalize the Hamiltonian\n",
    "println(Diag.values)         #This is all of the eigenvalues\n",
    "#index = findmin(Diag.values)  #The minimum eigenvalue corresponds to index=1\n",
    "#println(index[1])\n",
    "GroundState = Diag.vectors[:, 1]  #this gives the groundstate eigenvector\n",
    "println(GroundState)"
   ]
  },
  {
   "cell_type": "markdown",
   "metadata": {},
   "source": [
    "The GroundState vector is the coefficients of the expansion in the base kets.  Check for J=1 and B=0 that it matches your expectations."
   ]
  },
  {
   "cell_type": "code",
   "execution_count": 3,
   "metadata": {
    "scrolled": true
   },
   "outputs": [
    {
     "name": "stdout",
     "output_type": "stream",
     "text": [
      "2.2143363673239946\n"
     ]
    }
   ],
   "source": [
    "#Calculate the groundstate magnetization <m^2> in the Z direction\n",
    "magnetization = 0\n",
    "for Ket = 0:Dim-1  #Loop over Hilbert Space\n",
    "    SumSz = 0.\n",
    "    for SpinIndex = 0:N-1  #Loop over spin index (base zero, stop one spin before the end of the chain)\n",
    "        Spin1 = 2*((Ket>>SpinIndex)&1) - 1\n",
    "        SumSz += Spin1 #spin is +1 or -1\n",
    "        #print(Spin1,\" \")\n",
    "    end\n",
    "    #println(SumSz,\" \",GroundState[Ket+1])\n",
    "    magnetization += SumSz*SumSz*GroundState[Ket+1]^2  #Don't forgot to square the coefficients...\n",
    "end\n",
    "println(magnetization/N)    "
   ]
  },
  {
   "cell_type": "markdown",
   "metadata": {},
   "source": []
  },
  {
   "cell_type": "code",
   "execution_count": null,
   "metadata": {},
   "outputs": [],
   "source": []
  }
 ],
 "metadata": {
  "kernelspec": {
   "display_name": "Julia 1.3.0",
   "language": "julia",
   "name": "julia-1.3"
  },
  "language_info": {
   "file_extension": ".jl",
   "mimetype": "application/julia",
   "name": "julia",
   "version": "1.3.0"
  }
 },
 "nbformat": 4,
 "nbformat_minor": 2
}
