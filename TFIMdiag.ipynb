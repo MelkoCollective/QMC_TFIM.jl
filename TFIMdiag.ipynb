{
 "cells": [
  {
   "cell_type": "markdown",
   "metadata": {},
   "source": [
    "###### December 2019 - Roger Melko\n",
    "\n",
    "Diagonalizing the Hamiltonian matrix for the transverse field Ising model to find the energy eigenvalues and eigenkets.   Calculate the groundstate magnetization.\n",
    "\n",
    "We will use the same Hamiltonian convention as the QMC program:\n",
    "$$\n",
    "H = -J\\sum_{\\langle i j \\rangle} \\sigma^z_i \\sigma^z_j - B \\sum_i \\sigma^x_i\n",
    "$$\n",
    "where ${\\bf \\sigma}_i$ are Pauli operators.  In this convention, the 1+1 CFT is at $h/J = 1$."
   ]
  },
  {
   "cell_type": "code",
   "execution_count": 12,
   "metadata": {},
   "outputs": [],
   "source": [
    "N = 10\n",
    "Dim = 2^N\n",
    "\n",
    "J = 1. #this is the exchange\n",
    "B = 1. #this is the transverse field\n",
    "\n",
    "Hamiltonian = zeros(Dim,Dim)   #This is your 2D Hamiltonian matrix\n",
    "\n",
    "for Ket = 0:Dim-1  #Loop over Hilbert Space\n",
    "    Diagonal = 0.\n",
    "    for SpinIndex = 0:N-2  #Loop over spin index (base zero, stop one spin before the end of the chain)\n",
    "        Spin1 = 2*((Ket>>SpinIndex)&1) - 1\n",
    "        NextIndex = SpinIndex + 1\n",
    "        Spin2 = 2*((Ket>>NextIndex)&1) - 1\n",
    "        Diagonal = Diagonal - J*Spin1*Spin2 #spins are +1 and -1\n",
    "    end\n",
    "    Hamiltonian[Ket+1,Ket+1] = Diagonal\n",
    "    \n",
    "    for SpinIndex = 0:N-1\n",
    "        bit = 2^SpinIndex   #The \"label\" of the bit to be flipped\n",
    "        Bra = Ket ⊻ bit    #Binary XOR flips the bit\n",
    "        Hamiltonian[Bra+1,Ket+1] = -B\n",
    "    end\n",
    "    \n",
    "end"
   ]
  },
  {
   "cell_type": "markdown",
   "metadata": {},
   "source": [
    "In the Julia LinearAlgebra package, the eigen function finds eigenvalues and eigenvectors.  They are ordered; i.e. the groundstate energy corresponds to index 1"
   ]
  },
  {
   "cell_type": "code",
   "execution_count": 15,
   "metadata": {
    "scrolled": true
   },
   "outputs": [],
   "source": [
    "using LinearAlgebra\n",
    "Diag = eigen(Hamiltonian)     #Diagonalize the Hamiltonian\n",
    "# println(Diag.values)         #This is all of the eigenvalues\n",
    "#index = findmin(Diag.values)  #The minimum eigenvalue corresponds to index=1\n",
    "#println(index[1])\n",
    "GroundState = Diag.vectors[:, 1];  #this gives the groundstate eigenvector\n",
    "# println(GroundState)"
   ]
  },
  {
   "cell_type": "code",
   "execution_count": 16,
   "metadata": {},
   "outputs": [
    {
     "data": {
      "text/plain": [
       "-1.2381489999654751"
      ]
     },
     "execution_count": 16,
     "metadata": {},
     "output_type": "execute_result"
    }
   ],
   "source": [
    "Diag.values[1] / N"
   ]
  },
  {
   "cell_type": "code",
   "execution_count": 17,
   "metadata": {},
   "outputs": [
    {
     "name": "stdout",
     "output_type": "stream",
     "text": [
      "0.41153322728818764\n"
     ]
    }
   ],
   "source": [
    "##### Calculate the groundstate magnetization <m^2> in the Z direction\n",
    "magnetization = 0\n",
    "for Ket = 0:Dim-1  #Loop over Hilbert Space\n",
    "    SumSz = 0.\n",
    "    for SpinIndex = 0:N-1  #Loop over spin index (base zero, stop one spin before the end of the chain)\n",
    "        Spin1 = 2*((Ket>>SpinIndex)&1) - 1\n",
    "        SumSz += Spin1 #spin is +1 or -1\n",
    "        #print(Spin1,\" \")\n",
    "    end\n",
    "    #println(SumSz,\" \",GroundState[Ket+1])\n",
    "    magnetization += SumSz*SumSz*GroundState[Ket+1]^2  #Don't forgot to square the coefficients...\n",
    "end\n",
    "println(magnetization/(N*N))    "
   ]
  },
  {
   "cell_type": "code",
   "execution_count": null,
   "metadata": {},
   "outputs": [],
   "source": []
  }
 ],
 "metadata": {
  "kernelspec": {
   "display_name": "Julia 1.3.0",
   "language": "julia",
   "name": "julia-1.3"
  },
  "language_info": {
   "file_extension": ".jl",
   "mimetype": "application/julia",
   "name": "julia",
   "version": "1.3.0"
  }
 },
 "nbformat": 4,
 "nbformat_minor": 2
}
