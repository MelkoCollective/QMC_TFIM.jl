{
 "cells": [
  {
   "cell_type": "markdown",
   "metadata": {},
   "source": [
    "###### December 2019 - Roger Melko\n",
    "\n",
    "Diagonalizing the Hamiltonian matrix for the transverse field Ising model to find the energy eigenvalues and eigenkets.   Calculate the groundstate magnetization.\n",
    "\n",
    "We will use the same Hamiltonian convention as the QMC program:\n",
    "$$\n",
    "H = -J\\sum_{\\langle i j \\rangle} \\sigma^z_i \\sigma^z_j - B \\sum_i \\sigma^x_i\n",
    "$$\n",
    "where ${\\bf \\sigma}_i$ are Pauli operators.  In this convention, the 1+1 CFT is at $h/J = 1$."
   ]
  },
  {
   "cell_type": "code",
   "execution_count": 1,
   "metadata": {},
   "outputs": [],
   "source": [
    "N = 6\n",
    "Dim = 2^N\n",
    "\n",
    "J = 1. #this is the exchange\n",
    "B = 1. #this is the transverse field\n",
    "\n",
    "Hamiltonian = zeros(Float32,Dim,Dim)   #This is your 2D Hamiltonian matrix\n",
    "\n",
    "for Ket = 0:Dim-1  #Loop over Hilbert Space\n",
    "    Diagonal = 0.\n",
    "    for SpinIndex = 0:N-2  #Loop over spin index (base zero, stop one spin before the end of the chain)\n",
    "        Spin1 = 2*((Ket>>SpinIndex)&1) - 1\n",
    "        NextIndex = SpinIndex + 1\n",
    "        Spin2 = 2*((Ket>>NextIndex)&1) - 1\n",
    "        Diagonal = Diagonal - J*Spin1*Spin2 #spins are +1 and -1\n",
    "    end\n",
    "    Hamiltonian[Ket+1,Ket+1] = Diagonal\n",
    "    \n",
    "    for SpinIndex = 0:N-1\n",
    "        bit = 2^SpinIndex   #The \"label\" of the bit to be flipped\n",
    "        Bra = Ket ⊻ bit    #Binary XOR flips the bit\n",
    "        Hamiltonian[Bra+1,Ket+1] = -B\n",
    "    end\n",
    "    \n",
    "end"
   ]
  },
  {
   "cell_type": "markdown",
   "metadata": {},
   "source": [
    "In the Julia LinearAlgebra package, the eigen function finds eigenvalues and eigenvectors.  They are ordered; i.e. the groundstate energy corresponds to index 1"
   ]
  },
  {
   "cell_type": "code",
   "execution_count": 2,
   "metadata": {
    "scrolled": true
   },
   "outputs": [
    {
     "name": "stdout",
     "output_type": "stream",
     "text": [
      "Float32[-7.29623, -6.81408, -5.87781, -5.39566, -5.02397, -4.54182, -4.30219, -3.82004, -3.75441, -3.60555, -3.41247, -3.27226, -3.1234, -2.93032, -2.88377, -2.40162, -2.33599, -2.02993, -1.99404, -1.85384, -1.54778, -1.51189, -1.48215, -1.1402, -0.999999, -0.760362, -0.658056, -0.611506, -0.418418, -0.278216, -0.12936, -0.0637288, 0.0637283, 0.129363, 0.278218, 0.418421, 0.611509, 0.658059, 0.760364, 1.0, 1.1402, 1.48215, 1.5119, 1.54778, 1.85384, 1.99404, 2.02993, 2.33599, 2.40162, 2.88377, 2.93032, 3.12341, 3.27226, 3.41246, 3.60555, 3.75441, 3.82004, 4.30219, 4.54182, 5.02397, 5.39566, 5.87781, 6.81408, 7.29623]\n",
      "Float32[0.400546, 0.206267, 0.130935, 0.166201, 0.122672, 0.0748228, 0.0952468, 0.156543, 0.122672, 0.0670863, 0.0472049, 0.0676195, 0.0874641, 0.061567, 0.0911077, 0.166202, 0.130935, 0.0695418, 0.0456557, 0.0615668, 0.0472049, 0.0311591, 0.0425391, 0.0748231, 0.0952468, 0.055899, 0.0425391, 0.0670866, 0.0911077, 0.0695421, 0.107974, 0.206269, 0.206267, 0.107974, 0.0695418, 0.0911073, 0.0670863, 0.0425389, 0.055899, 0.0952469, 0.0748228, 0.0425389, 0.0311591, 0.0472049, 0.061567, 0.0456558, 0.0695421, 0.130935, 0.166201, 0.0911073, 0.0615668, 0.087464, 0.0676195, 0.0472049, 0.0670866, 0.122672, 0.156543, 0.0952469, 0.0748231, 0.122672, 0.166202, 0.130935, 0.206269, 0.400547]\n"
     ]
    }
   ],
   "source": [
    "using LinearAlgebra\n",
    "Diag = eigen(Hamiltonian)     #Diagonalize the Hamiltonian\n",
    "println(Diag.values)         #This is all of the eigenvalues\n",
    "#index = findmin(Diag.values)  #The minimum eigenvalue corresponds to index=1\n",
    "#println(index[1])\n",
    "GroundState = Diag.vectors[:, 1]  #this gives the groundstate eigenvector\n",
    "println(GroundState)"
   ]
  },
  {
   "cell_type": "code",
   "execution_count": 3,
   "metadata": {},
   "outputs": [
    {
     "name": "stdout",
     "output_type": "stream",
     "text": [
      "0.48243552875808543\n"
     ]
    }
   ],
   "source": [
    "##### Calculate the groundstate magnetization <m^2> in the Z direction\n",
    "magnetization = 0\n",
    "for Ket = 0:Dim-1  #Loop over Hilbert Space\n",
    "    SumSz = 0.\n",
    "    for SpinIndex = 0:N-1  #Loop over spin index (base zero, stop one spin before the end of the chain)\n",
    "        Spin1 = 2*((Ket>>SpinIndex)&1) - 1\n",
    "        SumSz += Spin1 #spin is +1 or -1\n",
    "        #print(Spin1,\" \")\n",
    "    end\n",
    "    #println(SumSz,\" \",GroundState[Ket+1])\n",
    "    magnetization += SumSz*SumSz*GroundState[Ket+1]^2  #Don't forgot to square the coefficients...\n",
    "end\n",
    "println(magnetization/(N*N))    "
   ]
  },
  {
   "cell_type": "code",
   "execution_count": null,
   "metadata": {},
   "outputs": [],
   "source": []
  }
 ],
 "metadata": {
  "kernelspec": {
   "display_name": "Julia 1.0.0",
   "language": "julia",
   "name": "julia-1.0"
  },
  "language_info": {
   "file_extension": ".jl",
   "mimetype": "application/julia",
   "name": "julia",
   "version": "1.0.0"
  }
 },
 "nbformat": 4,
 "nbformat_minor": 2
}
