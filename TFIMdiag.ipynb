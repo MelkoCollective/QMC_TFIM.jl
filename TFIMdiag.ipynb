{
 "cells": [
  {
   "cell_type": "markdown",
   "metadata": {},
   "source": [
    "###### December 2019 - Roger Melko\n",
    "\n",
    "Diagonalizing the Hamiltonian matrix for the transverse field Ising model to find the energy eigenvalues and eigenkets.   Calculate the groundstate magnetization.\n",
    "\n",
    "We will use the same Hamiltonian convention as the QMC program:\n",
    "$$\n",
    "H = -J\\sum_{\\langle i j \\rangle} \\sigma^z_i \\sigma^z_j - B \\sum_i \\sigma^x_i\n",
    "$$\n",
    "where ${\\bf \\sigma}_i$ are Pauli operators.  In this convention, the 1+1 CFT is at $h/J = 1$."
   ]
  },
  {
   "cell_type": "code",
   "execution_count": 1,
   "metadata": {},
   "outputs": [],
   "source": [
    "N = 6\n",
    "Dim = 2^N\n",
    "\n",
    "J = 1. #this is the exchange\n",
    "B = 1. #this is the transverse field\n",
    "\n",
    "Hamiltonian = zeros(Float32,Dim,Dim)   #This is your 2D Hamiltonian matrix\n",
    "\n",
    "for Ket = 0:Dim-1  #Loop over Hilbert Space\n",
    "    Diagonal = 0.\n",
    "    for SpinIndex = 0:N-2  #Loop over spin index (base zero, stop one spin before the end of the chain)\n",
    "        Spin1 = 2*((Ket>>SpinIndex)&1) - 1\n",
    "        NextIndex = SpinIndex + 1\n",
    "        Spin2 = 2*((Ket>>NextIndex)&1) - 1\n",
    "        Diagonal = Diagonal - J*Spin1*Spin2 #spins are +1 and -1\n",
    "    end\n",
    "    Hamiltonian[Ket+1,Ket+1] = Diagonal\n",
    "    \n",
    "    for SpinIndex = 0:N-1\n",
    "        bit = 2^SpinIndex   #The \"label\" of the bit to be flipped\n",
    "        Bra = Ket ⊻ bit    #Binary XOR flips the bit\n",
    "        Hamiltonian[Bra+1,Ket+1] = -B\n",
    "    end\n",
    "    \n",
    "end"
   ]
  },
  {
   "cell_type": "markdown",
   "metadata": {},
   "source": [
    "In the Julia LinearAlgebra package, the eigen function finds eigenvalues and eigenvectors.  They are ordered; i.e. the groundstate energy corresponds to index 1"
   ]
  },
  {
   "cell_type": "code",
   "execution_count": 2,
   "metadata": {},
   "outputs": [
    {
     "name": "stdout",
     "output_type": "stream",
     "text": [
      "Float32[-7.296233, -6.8140793, -5.8778143, -5.3956623, -5.0239687, -4.5418262, -4.302187, -3.8200388, -3.754406, -3.6055527, -3.412465, -3.2722578, -3.1234045, -2.930317, -2.883771, -2.4016228, -2.3359861, -2.0299273, -1.9940414, -1.8538399, -1.547781, -1.5118952, -1.4821463, -1.1402044, -1.0, -0.7603617, -0.6580553, -0.61150837, -0.41841745, -0.2782154, -0.12936163, -0.06372833, 0.06372833, 0.12936258, 0.27821493, 0.4184208, 0.6115098, 0.65805674, 0.76036406, 1.000001, 1.1402035, 1.4821467, 1.5118971, 1.547781, 1.8538384, 1.9940424, 2.0299277, 2.3359857, 2.4016213, 2.88377, 2.9303164, 3.1234045, 3.2722597, 3.412462, 3.6055515, 3.7544053, 3.82004, 4.302188, 4.5418243, 5.023971, 5.3956633, 5.8778105, 6.814084, 7.29623]\n",
      "Float32[-0.40054974, -0.20626862, -0.13093561, -0.16620174, -0.12267257, -0.074823074, -0.09524678, -0.15654245, -0.12267257, -0.06708649, -0.04720509, -0.06761941, -0.08746394, -0.06156687, -0.09110713, -0.1662011, -0.1309356, -0.069541946, -0.04565585, -0.061566886, -0.04720508, -0.031159006, -0.042538963, -0.07482289, -0.09524677, -0.05589898, -0.042538974, -0.06708631, -0.09110711, -0.06954189, -0.107973605, -0.20626712, -0.20626861, -0.10797401, -0.069541946, -0.09110739, -0.06708647, -0.042539105, -0.05589898, -0.09524685, -0.07482307, -0.042539105, -0.031158984, -0.047204778, -0.06156686, -0.04565565, -0.069541894, -0.13093477, -0.16620171, -0.09110737, -0.06156687, -0.087463826, -0.0676194, -0.047204778, -0.06708629, -0.122671686, -0.1565424, -0.09524677, -0.07482293, -0.12267176, -0.16620106, -0.13093476, -0.20626709, -0.40054503]\n"
     ]
    }
   ],
   "source": [
    "using LinearAlgebra\n",
    "Diag = eigen(Hamiltonian)     #Diagonalize the Hamiltonian\n",
    "println(Diag.values)         #This is all of the eigenvalues\n",
    "#index = findmin(Diag.values)  #The minimum eigenvalue corresponds to index=1\n",
    "#println(index[1])\n",
    "GroundState = Diag.vectors[:, 1]  #this gives the groundstate eigenvector\n",
    "println(GroundState)"
   ]
  },
  {
   "cell_type": "code",
   "execution_count": 3,
   "metadata": {},
   "outputs": [
    {
     "name": "stdout",
     "output_type": "stream",
     "text": [
      "0.4824365366560717\n"
     ]
    }
   ],
   "source": [
    "##### Calculate the groundstate magnetization <m^2> in the Z direction\n",
    "magnetization = 0\n",
    "for Ket = 0:Dim-1  #Loop over Hilbert Space\n",
    "    SumSz = 0.\n",
    "    for SpinIndex = 0:N-1  #Loop over spin index (base zero, stop one spin before the end of the chain)\n",
    "        Spin1 = 2*((Ket>>SpinIndex)&1) - 1\n",
    "        SumSz += Spin1 #spin is +1 or -1\n",
    "        #print(Spin1,\" \")\n",
    "    end\n",
    "    #println(SumSz,\" \",GroundState[Ket+1])\n",
    "    magnetization += SumSz*SumSz*GroundState[Ket+1]^2  #Don't forgot to square the coefficients...\n",
    "end\n",
    "println(magnetization/(N*N))    "
   ]
  },
  {
   "cell_type": "code",
   "execution_count": null,
   "metadata": {},
   "outputs": [],
   "source": []
  }
 ],
 "metadata": {
  "kernelspec": {
   "display_name": "Julia 1.3.0",
   "language": "julia",
   "name": "julia-1.3"
  },
  "language_info": {
   "file_extension": ".jl",
   "mimetype": "application/julia",
   "name": "julia",
   "version": "1.3.0"
  }
 },
 "nbformat": 4,
 "nbformat_minor": 2
}
