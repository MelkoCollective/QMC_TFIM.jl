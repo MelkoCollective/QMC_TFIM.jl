{
 "cells": [
  {
   "cell_type": "markdown",
   "metadata": {},
   "source": [
    "Diagonalizing the Hamiltonian matrix for the Rydberg hamiltonian to find the energy eigenvalues and eigenkets. Calculate the groundstate magnetization.\n",
    "\n",
    "$$\n",
    "H = -\\sum_{\\langle i j \\rangle} V_{ij} (\\sigma^z_i \\sigma^z_j + \\sigma^z_i + \\sigma^z_j) - \\Omega \\sum_{i=1}^N \\sigma^x_i - \\frac{h}{2} \\sum_{i=1}^N \\sigma^z_i - \\left(\\frac{Nh}{2} + \\sum_{\\langle i j \\rangle} V_{ij}\\right)\n",
    "$$\n",
    "where ${\\bf \\sigma}_i$ are Pauli operators and $V_{ij} = \\frac{C}{R_{ij}^6} = \\frac{1}{r}\\frac{C}{|i-j|^6}$ where $r$ is the nearest neighbour length."
   ]
  },
  {
   "cell_type": "code",
   "execution_count": 17,
   "metadata": {},
   "outputs": [
    {
     "name": "stdout",
     "output_type": "stream",
     "text": [
      "[-24.09375 -0.5 -0.5 0.0 -0.5 0.0 0.0 0.0; -0.5 -12.59375 0.0 -0.5 0.0 -0.5 0.0 0.0; -0.5 0.0 -0.59375 -0.5 0.0 0.0 -0.5 0.0; 0.0 -0.5 -0.5 -13.09375 0.0 0.0 0.0 -0.5; -0.5 0.0 0.0 0.0 -12.59375 -0.5 -0.5 0.0; 0.0 -0.5 0.0 0.0 -0.5 -1.09375 0.0 -0.5; 0.0 0.0 -0.5 0.0 -0.5 0.0 -13.09375 -0.5; 0.0 0.0 0.0 -0.5 0.0 -0.5 -0.5 -25.59375]\n"
     ]
    }
   ],
   "source": [
    "using LinearAlgebra\n",
    "\n",
    "N = 3\n",
    "Dim = 2^N\n",
    "\n",
    "r = 1. # this is the nearest neighbour length scale\n",
    "C = 6.\n",
    "Ω = 0.5 # this is the transverse field\n",
    "h = 0.5 # this is the longitudinal field\n",
    "\n",
    "Hamiltonian = zeros(Dim,Dim)   #This is your 2D Hamiltonian matrix\n",
    "\n",
    "function Vij(i,j)\n",
    "    return C / (r*abs(i-j)^6)\n",
    "end\n",
    "\n",
    "# Calculate the sum of all Vij's for the diagonal off-set\n",
    "sumVij = 0\n",
    "for i = 1:N-1\n",
    "    for j = i+1:(N)\n",
    "        sumVij += Vij(i,j)\n",
    "    end\n",
    "end    \n",
    "\n",
    "for Ket = 0:Dim-1  #Loop over Hilbert Space\n",
    "    Diagonal = 0.\n",
    "    for SpinIndex = 0:N-2  #Loop over spin index (base zero, stop one spin before the end of the chain)\n",
    "        Spin1 = 2*((Ket>>SpinIndex)&1) - 1\n",
    "        NextIndex = SpinIndex + 1\n",
    "        Spin2 = 2*((Ket>>NextIndex)&1) - 1\n",
    "        Diagonal = Diagonal - Vij(SpinIndex,NextIndex)*Spin1*Spin2 - 0.5*h*Spin1 #spins are +1 and -1\n",
    "    end\n",
    "    \n",
    "    # above loop only goes until N-2'th spin\n",
    "    SpinN = 2*((Ket>>(N-1))&1) - 1\n",
    "    Diagonal = Diagonal - 0.5*h*SpinN\n",
    "    # add constant terms\n",
    "    Diagonal = Diagonal - N*h/2 - sumVij\n",
    "        \n",
    "    Hamiltonian[Ket+1,Ket+1] = Diagonal\n",
    "    \n",
    "    # transverse field term\n",
    "    for SpinIndex = 0:N-1\n",
    "        bit = 2^SpinIndex   #The \"label\" of the bit to be flipped\n",
    "        Bra = Ket ⊻ bit    #Binary XOR flips the bit\n",
    "        Hamiltonian[Bra+1,Ket+1] = -Ω\n",
    "    end \n",
    "end\n",
    "\n",
    "println(Hamiltonian)"
   ]
  },
  {
   "cell_type": "code",
   "execution_count": 18,
   "metadata": {},
   "outputs": [
    {
     "name": "stdout",
     "output_type": "stream",
     "text": [
      "-8.547994208948127\n",
      "0.996782333543586\n"
     ]
    }
   ],
   "source": [
    "Diag = eigen(Hamiltonian)     #Diagonalize the Hamiltonian\n",
    "GroundState = Diag.vectors[:, 1];  #this gives the groundstate eigenvector\n",
    "E0 = Diag.values[1] / N\n",
    "println(E0)\n",
    "\n",
    "magnetization = 0\n",
    "for Ket = 0:Dim-1  #Loop over Hilbert Space\n",
    "    SumSz = 0.\n",
    "    for SpinIndex = 0:N-1  #Loop over spin index (base zero, stop one spin before the end of the chain)\n",
    "        Spin1 = 2*((Ket>>SpinIndex)&1) - 1\n",
    "        SumSz += Spin1 #spin is +1 or -1\n",
    "        #print(Spin1,\" \")\n",
    "    end\n",
    "    #println(SumSz,\" \",GroundState[Ket+1])\n",
    "    magnetization += SumSz*SumSz*GroundState[Ket+1]^2  #Don't forgot to square the coefficients...\n",
    "end\n",
    "println(magnetization/(N*N))"
   ]
  }
 ],
 "metadata": {
  "kernelspec": {
   "display_name": "Julia 1.2.0",
   "language": "julia",
   "name": "julia-1.2"
  },
  "language_info": {
   "file_extension": ".jl",
   "mimetype": "application/julia",
   "name": "julia",
   "version": "1.2.0"
  }
 },
 "nbformat": 4,
 "nbformat_minor": 2
}
