{
 "cells": [
  {
   "cell_type": "markdown",
   "metadata": {},
   "source": [
    "Diagonalizing the Hamiltonian matrix for the Rydberg hamiltonian to find the energy eigenvalues and eigenkets. Calculate the groundstate magnetization and energy at zero temperature and finite temperature.\n",
    "\n",
    "$$\n",
    "H = -\\sum_{\\langle i j \\rangle} V_{ij} (\\sigma^z_i \\sigma^z_j + \\sigma^z_i + \\sigma^z_j) - \\Omega \\sum_{i=1}^N \\sigma^x_i - \\frac{h}{2} \\sum_{i=1}^N \\sigma^z_i - \\left(\\frac{Nh}{2} + \\sum_{\\langle i j \\rangle} V_{ij}\\right)\n",
    "$$\n",
    "where ${\\bf \\sigma}_i$ are Pauli operators and $V_{ij} = \\frac{C}{R_{ij}^6} = \\frac{1}{r^6}\\frac{C}{|i-j|^6}$ where $r$ is the nearest neighbour length."
   ]
  },
  {
   "cell_type": "code",
   "execution_count": 1,
   "metadata": {},
   "outputs": [],
   "source": [
    "using LinearAlgebra\n",
    "\n",
    "N = 2\n",
    "Dim = 2^N\n",
    "\n",
    "r = 1. # this is the nearest neighbour length scale\n",
    "C = 1.\n",
    "Ω = 0.5 # this is the transverse field\n",
    "h = 0.5 # this is the longitudinal field\n",
    "\n",
    "Hamiltonian = zeros(Dim,Dim)   #This is your 2D Hamiltonian matrix\n",
    "\n",
    "function Vij(i,j)\n",
    "    return C / ((r*abs(i-j))^6)\n",
    "end\n",
    "\n",
    "# Calculate the sum of all Vij's for the diagonal shift\n",
    "sumVij = 0\n",
    "for i = 1:N-1\n",
    "    for j = (i+1):(N)\n",
    "        sumVij += Vij(i,j)\n",
    "    end\n",
    "end    \n",
    "\n",
    "for Ket = 0:Dim-1  #Loop over Hilbert Space\n",
    "    Diagonal = 0.\n",
    "    for SpinIndex1 = 0:N-2  #Loop over spin index (base zero, stop one spin before the end of the chain)\n",
    "        Spin1 = 2*((Ket>>SpinIndex1)&1) - 1\n",
    "        \n",
    "        for SpinIndex2 = (SpinIndex1+1):(N-1)\n",
    "            Spin2 = 2*((Ket>>SpinIndex2)&1) - 1\n",
    "            # Vij term\n",
    "            Diagonal = Diagonal - Vij(SpinIndex1,SpinIndex2)*(Spin1*Spin2 + Spin1 + Spin2) #spins are +1 and -1\n",
    "        end\n",
    "        \n",
    "        # Longitudinal Field term\n",
    "        Diagonal = Diagonal - 0.5*h*Spin1\n",
    "    end\n",
    "    SpinN = 2*((Ket>>(N-1))&1) - 1\n",
    "    Diagonal = Diagonal - 0.5*h*SpinN\n",
    "    # add constant shift terms\n",
    "    Diagonal = Diagonal - 0.5*N*h - sumVij\n",
    "    \n",
    "    Hamiltonian[Ket+1,Ket+1] = Diagonal\n",
    "    \n",
    "    # transverse field term\n",
    "    for SpinIndex = 0:N-1\n",
    "        bit = 2^SpinIndex   #The \"label\" of the bit to be flipped\n",
    "        Bra = Ket ⊻ bit    #Binary XOR flips the bit\n",
    "        Hamiltonian[Bra+1,Ket+1] = -Ω\n",
    "    end \n",
    "end"
   ]
  },
  {
   "cell_type": "code",
   "execution_count": 2,
   "metadata": {},
   "outputs": [
    {
     "name": "stdout",
     "output_type": "stream",
     "text": [
      "E0 / N = -2.5553960170015677\n",
      "Mag. / N^2 = 0.9760494848129526\n"
     ]
    }
   ],
   "source": [
    "### ZERO-T GROUND STATE ###\n",
    "\n",
    "Diag = eigen(Hamiltonian)     #Diagonalize the Hamiltonian\n",
    "GroundState = Diag.vectors[:, 1];  #this gives the groundstate eigenvector\n",
    "E0 = Diag.values[1] / N\n",
    "println(\"E0 / N = \",E0)\n",
    "\n",
    "magnetization = 0\n",
    "for Ket = 0:Dim-1  #Loop over Hilbert Space\n",
    "    SumSz = 0.\n",
    "    for SpinIndex = 0:N-1  #Loop over spin index (base zero, stop one spin before the end of the chain)\n",
    "        Spin1 = 2*((Ket>>SpinIndex)&1) - 1\n",
    "        SumSz += Spin1 #spin is +1 or -1\n",
    "    end\n",
    "    magnetization += SumSz*SumSz*GroundState[Ket+1]^2  #Don't forgot to square the coefficients...\n",
    "end\n",
    "\n",
    "println(\"Mag. / N^2 = \", magnetization/(N*N))"
   ]
  },
  {
   "cell_type": "code",
   "execution_count": 3,
   "metadata": {},
   "outputs": [
    {
     "name": "stdout",
     "output_type": "stream",
     "text": [
      "E thermal / N = -2.4925433961464405\n",
      "Mag. / N^2 = 0.23780569199821283\n"
     ]
    }
   ],
   "source": [
    "### FINITE-T ###\n",
    "\n",
    "β = 1\n",
    "H = zeros(Dim, Dim)\n",
    "for i = 1:Dim\n",
    "    H[i,i] = Diag.values[i]\n",
    "end\n",
    "    \n",
    "expH = exp.(-β*H)\n",
    "Z = tr(expH) # partition function\n",
    "ρ = expH / Z\n",
    "\n",
    "sigmaZ1 = [1 0; 0 -1]\n",
    "sigmaZN = kron(sigmaZ1, sigmaZ1)\n",
    "for i = 3:N\n",
    "    sigmaZN = kron(sigmaZN, sigmaZ1)\n",
    "end\n",
    "\n",
    "m_thermal = tr(sigmaZN*ρ) / (N*N)\n",
    "E_thermal = tr(H*ρ) / N\n",
    "\n",
    "println(\"E thermal / N = \", E_thermal)\n",
    "println(\"Mag. / N^2 = \", m_thermal)"
   ]
  }
 ],
 "metadata": {
  "kernelspec": {
   "display_name": "Julia 1.2.0",
   "language": "julia",
   "name": "julia-1.2"
  },
  "language_info": {
   "file_extension": ".jl",
   "mimetype": "application/julia",
   "name": "julia",
   "version": "1.2.0"
  }
 },
 "nbformat": 4,
 "nbformat_minor": 2
}
