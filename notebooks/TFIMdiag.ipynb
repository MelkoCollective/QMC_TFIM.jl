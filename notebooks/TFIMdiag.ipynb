{
 "cells": [
  {
   "cell_type": "markdown",
   "metadata": {
    "deletable": true,
    "editable": true
   },
   "source": [
    "###### December 2019 - Roger Melko\n",
    "\n",
    "Diagonalizing the Hamiltonian matrix for the transverse field Ising model to find the energy eigenvalues and eigenkets.   Calculate the groundstate magnetization.\n",
    "\n",
    "We will use the same Hamiltonian convention as the QMC program:\n",
    "$$\n",
    "H = -J\\sum_{\\langle i j \\rangle} \\sigma^z_i \\sigma^z_j - B \\sum_i \\sigma^x_i - h \\sum_i \\sigma^z_i\n",
    "$$\n",
    "where ${\\bf \\sigma}_i$ are Pauli operators.  In this convention, the 1+1 CFT is at $B/J = 1$ and $h=0$."
   ]
  },
  {
   "cell_type": "code",
   "execution_count": 1,
   "metadata": {
    "collapsed": true,
    "deletable": true,
    "editable": true
   },
   "outputs": [],
   "source": [
    "using LinearAlgebra"
   ]
  },
  {
   "cell_type": "code",
   "execution_count": 27,
   "metadata": {
    "collapsed": false,
    "deletable": true,
    "editable": true
   },
   "outputs": [],
   "source": [
    "N = 6\n",
    "Dim = 2^N\n",
    "\n",
    "J = 1. #exchange interaction\n",
    "B = 1. #transverse field\n",
    "h = 0.5 #longitudinal field\n",
    "\n",
    "Hamiltonian = zeros(Dim,Dim)   #This is your 2D Hamiltonian matrix\n",
    "\n",
    "Spin2 = 0 #give it a scope outside of the loop\n",
    "\n",
    "for Ket = 0:Dim-1  #Loop over Hilbert Space\n",
    "    Diagonal = 0.\n",
    "    for SpinIndex = 0:N-2  #Loop over spin index (base zero, stop one spin before the end of the chain)\n",
    "        Spin1 = 2*((Ket>>SpinIndex)&1) - 1\n",
    "        NextIndex = SpinIndex + 1\n",
    "        Spin2 = 2*((Ket>>NextIndex)&1) - 1\n",
    "        Diagonal = Diagonal - J*Spin1*Spin2 - h*Spin1 #spins are +1 and -1\n",
    "    end\n",
    "    Diagonal = Diagonal - h*Spin2 #this is the spin at the end of the chain\n",
    "    \n",
    "    Hamiltonian[Ket+1,Ket+1] = Diagonal\n",
    "    \n",
    "    for SpinIndex = 0:N-1\n",
    "        bit = 2^SpinIndex   #The \"label\" of the bit to be flipped\n",
    "        Bra = Ket ⊻ bit    #Binary XOR flips the bit\n",
    "        Hamiltonian[Bra+1,Ket+1] = -B\n",
    "    end\n",
    "end\n",
    "Hamiltonian = Hermitian(Hamiltonian);"
   ]
  },
  {
   "cell_type": "markdown",
   "metadata": {
    "deletable": true,
    "editable": true
   },
   "source": [
    "In the Julia LinearAlgebra package, the eigen function finds eigenvalues and eigenvectors.  They are ordered; i.e. the groundstate energy corresponds to index 1"
   ]
  },
  {
   "cell_type": "code",
   "execution_count": 28,
   "metadata": {
    "collapsed": true,
    "deletable": true,
    "editable": true
   },
   "outputs": [],
   "source": [
    "Diag = eigen(Hamiltonian);"
   ]
  },
  {
   "cell_type": "code",
   "execution_count": 29,
   "metadata": {
    "collapsed": false,
    "deletable": true,
    "editable": true
   },
   "outputs": [
    {
     "data": {
      "text/plain": [
       "-1.576425410085891"
      ]
     },
     "execution_count": 29,
     "metadata": {},
     "output_type": "execute_result"
    }
   ],
   "source": [
    "GroundState = Diag.vectors[:, 1];  #this gives the groundstate eigenvector\n",
    "Diag.values[1] / N"
   ]
  },
  {
   "cell_type": "code",
   "execution_count": 30,
   "metadata": {
    "collapsed": false,
    "deletable": true,
    "editable": true
   },
   "outputs": [
    {
     "data": {
      "text/plain": [
       "(0.8651647546885052, 0.8663490216667108, 0.7971193801058516)"
      ]
     },
     "execution_count": 30,
     "metadata": {},
     "output_type": "execute_result"
    }
   ],
   "source": [
    "##### Calculate the groundstate magnetization <m^2> in the Z direction\n",
    "magnetization = zeros(Dim)\n",
    "abs_mag = zeros(Dim)\n",
    "mag_squared = zeros(Dim)\n",
    "\n",
    "SumSz = dropdims(sum(@. (2 * (((0:Dim-1) >> (0:N-1)') & 1) - 1); dims=2); dims=2)\n",
    "AbsSumSz = abs.(SumSz)\n",
    "SumSzSq = abs2.(SumSz)\n",
    "\n",
    "magnetization = SumSz' * abs2.(Diag.vectors)\n",
    "abs_mag = AbsSumSz' * abs2.(Diag.vectors)\n",
    "mag_squared = SumSzSq' * abs2.(Diag.vectors)\n",
    "\n",
    "(magnetization[1] / N), (abs_mag[1] / N), (mag_squared[1] / (N*N))"
   ]
  },
  {
   "cell_type": "code",
   "execution_count": 6,
   "metadata": {
    "collapsed": false,
    "deletable": true,
    "editable": true
   },
   "outputs": [
    {
     "name": "stdout",
     "output_type": "stream",
     "text": [
      "20.0 0.0 0.0 0.0 0.3125 0.16666666666666666\n",
      "15.0 0.0 0.0 0.0 0.3125 0.16666666666666666\n",
      "10.0 0.0 0.0 0.0 0.3125 0.16666666666666666\n",
      "5.0 0.0 0.0 0.0 0.3125 0.16666666666666666\n",
      "3.0 0.0 0.0 0.0 0.3125 0.16666666666666666\n",
      "2.0 0.0 0.0 0.0 0.3125 0.16666666666666666\n",
      "1.0 0.0 0.0 0.0 0.3125 0.16666666666666666\n",
      "0.8 0.0 0.0 0.0 0.3125 0.16666666666666666\n",
      "0.5 0.0 0.0 0.0 0.3125 0.16666666666666666\n",
      "0.2 0.0 0.0 0.0 0.3125 0.16666666666666666\n"
     ]
    }
   ],
   "source": [
    "beta_vals = [20,15,10,5,3,2,1,0.8,0.5,0.2]\n",
    "ED =zeros(Float64,length(beta_vals))\n",
    "idx = 1\n",
    "for β in beta_vals\n",
    "    weights = exp.(-β * Diag.values)\n",
    "    Z = sum(weights)\n",
    "    E = dot(Diag.values, weights) / (N*Z)\n",
    "    C = (β^2 * ((dot(Diag.values .^2, weights) / Z) - (N*E)^2))\n",
    "    # magnetization of thermal state\n",
    "    M = dot(weights, magnetization) / (N*Z)\n",
    "    M_abs = dot(weights, abs_mag) / (N*Z)\n",
    "    M2 = dot(weights, mag_squared) / (N*N*Z)\n",
    "    println(β,\" \",E,\" \",C,\" \",M,\" \",M_abs,\" \",M2)\n",
    "    #ED[idx,1] = β\n",
    "    ED[idx,1] = M2\n",
    "    idx += 1\n",
    "end"
   ]
  },
  {
   "cell_type": "code",
   "execution_count": null,
   "metadata": {
    "collapsed": true,
    "deletable": true,
    "editable": true
   },
   "outputs": [],
   "source": []
  }
 ],
 "metadata": {
  "kernelspec": {
   "display_name": "Julia 1.3.0",
   "language": "julia",
   "name": "julia-1.3"
  },
  "language_info": {
   "file_extension": ".jl",
   "mimetype": "application/julia",
   "name": "julia",
   "version": "1.3.0"
  }
 },
 "nbformat": 4,
 "nbformat_minor": 2
}
