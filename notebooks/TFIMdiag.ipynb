{
 "cells": [
  {
   "cell_type": "markdown",
   "metadata": {
    "deletable": true,
    "editable": true
   },
   "source": [
    "###### December 2019 - Roger Melko\n",
    "\n",
    "Diagonalizing the Hamiltonian matrix for the transverse field Ising model to find the energy eigenvalues and eigenkets.   Calculate the groundstate magnetization.\n",
    "\n",
    "We will use the same Hamiltonian convention as the QMC program:\n",
    "$$\n",
    "H = -J\\sum_{\\langle i j \\rangle} \\sigma^z_i \\sigma^z_j - B \\sum_i \\sigma^x_i - h \\sum_i \\sigma^z_i\n",
    "$$\n",
    "where ${\\bf \\sigma}_i$ are Pauli operators.  In this convention, the 1+1 CFT is at $B/J = 1$ and $h=0$."
   ]
  },
  {
   "cell_type": "code",
   "execution_count": 2,
   "metadata": {
    "collapsed": true,
    "deletable": true,
    "editable": true
   },
   "outputs": [],
   "source": [
    "using LinearAlgebra"
   ]
  },
  {
   "cell_type": "code",
   "execution_count": 13,
   "metadata": {
    "collapsed": false,
    "deletable": true,
    "editable": true
   },
   "outputs": [],
   "source": [
    "N = 6\n",
    "Dim = 2^N\n",
    "\n",
    "J = 1. #exchange interaction\n",
    "B = 1. #transverse field\n",
    "h = 0. #longitudinal field\n",
    "\n",
    "Hamiltonian = zeros(Dim,Dim)   #This is your 2D Hamiltonian matrix\n",
    "\n",
    "Spin2 = 0 #give it a scope outside of the loop\n",
    "\n",
    "for Ket = 0:Dim-1  #Loop over Hilbert Space\n",
    "    Diagonal = 0.\n",
    "    for SpinIndex = 0:N-2  #Loop over spin index (base zero, stop one spin before the end of the chain)\n",
    "        Spin1 = 2*((Ket>>SpinIndex)&1) - 1\n",
    "        NextIndex = SpinIndex + 1\n",
    "        Spin2 = 2*((Ket>>NextIndex)&1) - 1\n",
    "        Diagonal = Diagonal - J*Spin1*Spin2 - h*Spin1 #spins are +1 and -1\n",
    "    end\n",
    "    Diagonal = Diagonal - h*Spin2 #this is the spin at the end of the chain\n",
    "    \n",
    "    Hamiltonian[Ket+1,Ket+1] = Diagonal\n",
    "    \n",
    "    for SpinIndex = 0:N-1\n",
    "        bit = 2^SpinIndex   #The \"label\" of the bit to be flipped\n",
    "        Bra = Ket ⊻ bit    #Binary XOR flips the bit\n",
    "        Hamiltonian[Bra+1,Ket+1] = -B\n",
    "    end\n",
    "end\n",
    "Hamiltonian = Hermitian(Hamiltonian);"
   ]
  },
  {
   "cell_type": "markdown",
   "metadata": {
    "deletable": true,
    "editable": true
   },
   "source": [
    "In the Julia LinearAlgebra package, the eigen function finds eigenvalues and eigenvectors.  They are ordered; i.e. the groundstate energy corresponds to index 1"
   ]
  },
  {
   "cell_type": "code",
   "execution_count": 14,
   "metadata": {
    "collapsed": true,
    "deletable": true,
    "editable": true
   },
   "outputs": [],
   "source": [
    "Diag = eigen(Hamiltonian);"
   ]
  },
  {
   "cell_type": "code",
   "execution_count": 15,
   "metadata": {
    "collapsed": false,
    "deletable": true,
    "editable": true
   },
   "outputs": [
    {
     "output_type": "execute_result",
     "data": {
      "text/plain": "-1.2160383017597935"
     },
     "metadata": {},
     "execution_count": 15
    }
   ],
   "source": [
    "GroundState = Diag.vectors[:, 1];  #this gives the groundstate eigenvector\n",
    "Diag.values[1] / N"
   ]
  },
  {
   "cell_type": "code",
   "execution_count": 16,
   "metadata": {
    "collapsed": false,
    "deletable": true,
    "editable": true
   },
   "outputs": [
    {
     "output_type": "execute_result",
     "data": {
      "text/plain": "(3.0568140611345975e-14, 0.6062539621278403, 0.4824376202801941)"
     },
     "metadata": {},
     "execution_count": 16
    }
   ],
   "source": [
    "##### Calculate the groundstate magnetization <m^2> in the Z direction\n",
    "magnetization = zeros(Dim)\n",
    "abs_mag = zeros(Dim)\n",
    "mag_squared = zeros(Dim)\n",
    "\n",
    "SumSz = dropdims(sum(@. (2 * (((0:Dim-1) >> (0:N-1)') & 1) - 1); dims=2); dims=2)\n",
    "AbsSumSz = abs.(SumSz)\n",
    "SumSzSq = abs2.(SumSz)\n",
    "\n",
    "magnetization = SumSz' * abs2.(Diag.vectors)\n",
    "abs_mag = AbsSumSz' * abs2.(Diag.vectors)\n",
    "mag_squared = SumSzSq' * abs2.(Diag.vectors)\n",
    "\n",
    "(magnetization[1] / N), (abs_mag[1] / N), (mag_squared[1] / (N*N))"
   ]
  },
  {
   "cell_type": "code",
   "execution_count": 17,
   "metadata": {
    "collapsed": false,
    "deletable": true,
    "editable": true,
    "tags": []
   },
   "outputs": [
    {
     "output_type": "stream",
     "name": "stdout",
     "text": "20.0 -1.2160330882932453 0.006032382773923928 3.056486568179482e-14 0.6062678612242338 0.4824533210158867\n15.0 -1.2159802506899207 0.03775820513371997 3.0531674890715147e-14 0.6064087256623791 0.48261244470733466\n10.0 -1.215396031574812 0.18440870205083115 3.0164769122955446e-14 0.6079655775028978 0.4843711188876946\n5.0 -1.2092191860845245 0.48255594153800985 2.63888059618621e-14 0.6236092464663624 0.5020679898280552\n3.0 -1.1969216436112355 0.6373334937588169 2.0639849533464738e-14 0.6420203586364356 0.5233219205987841\n2.0 -1.1747706424079871 0.9785881440130879 1.5523975962205516e-14 0.6432705416399187 0.5261570463628683\n1.0 -1.0504324129922518 1.8562004466091437 7.404315618433058e-15 0.582979197736084 0.4599291425676846\n0.8 -0.9709058215050207 1.9260639969018898 5.29849609973698e-15 0.5489314093266409 0.42066947056454573\n0.5 -0.7523829662333139 1.5012799844898854 2.2608794817379697e-15 0.4749518770604179 0.33515869470481835\n0.2 -0.3535501176598672 0.3942863030194122 3.110246134539128e-16 0.37838823200409216 0.2298302839843074\n"
    }
   ],
   "source": [
    "beta_vals = [20,15,10,5,3,2,1,0.8,0.5,0.2]\n",
    "ED =zeros(Float64,length(beta_vals))\n",
    "idx = 1\n",
    "for β in beta_vals\n",
    "    weights = exp.(-β * Diag.values)\n",
    "    Z = sum(weights)\n",
    "    E = dot(Diag.values, weights) / (N*Z)\n",
    "    C = (β^2 * ((dot(Diag.values .^2, weights) / Z) - (N*E)^2))\n",
    "    # magnetization of thermal state\n",
    "    M = dot(weights, magnetization) / (N*Z)\n",
    "    M_abs = dot(weights, abs_mag) / (N*Z)\n",
    "    M2 = dot(weights, mag_squared) / (N*N*Z)\n",
    "    println(β,\" \",E,\" \",C,\" \",M,\" \",M_abs,\" \",M2)\n",
    "    #ED[idx,1] = β\n",
    "    ED[idx,1] = M2\n",
    "    idx += 1\n",
    "end"
   ]
  },
  {
   "cell_type": "code",
   "execution_count": null,
   "metadata": {
    "collapsed": true,
    "deletable": true,
    "editable": true
   },
   "outputs": [],
   "source": []
  }
 ],
 "metadata": {
  "kernelspec": {
   "display_name": "Julia 1.4.1",
   "language": "julia",
   "name": "julia-1.4"
  },
  "language_info": {
   "file_extension": ".jl",
   "mimetype": "application/julia",
   "name": "julia",
   "version": "3.8.2-final"
  }
 },
 "nbformat": 4,
 "nbformat_minor": 2
}